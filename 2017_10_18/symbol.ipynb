{
 "cells": [
  {
   "cell_type": "code",
   "execution_count": 34,
   "metadata": {
    "collapsed": false
   },
   "outputs": [
    {
     "name": "stdout",
     "output_type": "stream",
     "text": [
      "sin(x)\n",
      "((y + cos(x)) + 2)\n"
     ]
    },
    {
     "data": {
      "text/plain": [
       "4.0"
      ]
     },
     "execution_count": 34,
     "metadata": {},
     "output_type": "execute_result"
    }
   ],
   "source": [
    "import math\n",
    "import operator\n",
    "import numbers\n",
    "\n",
    "class Expr(object):\n",
    "    def __add__(self, other):\n",
    "        if isinstance(other, numbers.Number):\n",
    "            other = Number(other)\n",
    "        return Sum(self, other)\n",
    "    \n",
    "    def __radd__(self, other):\n",
    "        return self + other\n",
    "\n",
    "class Symbol(Expr):\n",
    "    def __init__(self, name):\n",
    "        self.name = name\n",
    "    \n",
    "    def display(self):\n",
    "        return self.name\n",
    "    \n",
    "    def evaluate(self, **kwd):\n",
    "        if self.name in kwd.keys():\n",
    "            return kwd[self.name]\n",
    "        raise Exception('Cannot evaluate {self.name}'.format(self))        \n",
    "        \n",
    "class Number(Expr):\n",
    "    def __init__(self, value):\n",
    "        self.value = value\n",
    "    \n",
    "    def display(self):\n",
    "        return self.value\n",
    "    \n",
    "    def evaluate(self, **kwd):\n",
    "        return self.value\n",
    "\n",
    "class Function(Expr):\n",
    "    pass\n",
    "\n",
    "class BinaryOperator(Function):\n",
    "    def __init__(self, arg1, arg2):\n",
    "        self.arg1 = arg1\n",
    "        self.arg2 = arg2\n",
    "\n",
    "    def display(self):\n",
    "        arg1 = self.arg1.display()\n",
    "        arg2 = self.arg2.display()\n",
    "        op = self.operator_name\n",
    "        return \"({arg1} {op} {arg2})\".format(arg1=arg1, arg2=arg2, op=op)\n",
    "\n",
    "    def evaluate(self, **kwd):\n",
    "        arg1 = self.arg1.evaluate(**kwd)\n",
    "        arg2 = self.arg2.evaluate(**kwd)\n",
    "        return self.operator_function(arg1, arg2)\n",
    "\n",
    "    \n",
    "class Sum(BinaryOperator):\n",
    "    operator_name = '+'\n",
    "    operator_function = operator.add\n",
    "        \n",
    "    def simplication_de_deux_nombre(self):\n",
    "        if isinstance(self.arg1, Number) and isinstance(self.arg2, Number):\n",
    "            return Number(self.arg1.value + self.arg2.value)\n",
    "\n",
    "    def simplication_addition_avec_zero(self):\n",
    "        pass\n",
    "    \n",
    "    liste_simplication = ['simplication_de_deux_nombre', 'simplication_addition_avec_zero']\n",
    "        \n",
    "class MathFunction(Function):\n",
    "    def __init__(self, expr):\n",
    "        self.arg = expr\n",
    "        \n",
    "    def display(self):\n",
    "        return '{self.function_name}({arg})'.format(self=self,\n",
    "                                        arg=self.arg.display())\n",
    "\n",
    "    def evaluate(self, **kwd):\n",
    "        return self.function_operator(self.arg.evaluate(**kwd))\n",
    "    \n",
    "    @property\n",
    "    def function_operator(self):\n",
    "        return getattr(math, self.function_name)\n",
    "\n",
    "    \n",
    "class Sin(MathFunction):\n",
    "    function_name = 'sin'\n",
    "#    function_operator = math.sin\n",
    "\n",
    "class Cos(MathFunction):\n",
    "    function_name = 'cos'\n",
    "\n",
    "#for func in ['cos', 'sin', 'log', 'exp']:\n",
    "#    ....\n",
    "    \n",
    "sin = Sin\n",
    "cos = Cos\n",
    "    \n",
    "x = Symbol('x')\n",
    "y = Symbol('y')\n",
    "expr = Sin(x)\n",
    "print(expr.display())\n",
    "expr = Sum(y, Cos(x))\n",
    "expr = y + cos(x) + 2\n",
    "print(expr.display())\n",
    "#expr = Sum(x, Prod(Sin(x), cos(y)))\n",
    "expr.evaluate(x=math.pi/2, y=2)\n"
   ]
  },
  {
   "cell_type": "code",
   "execution_count": 9,
   "metadata": {
    "collapsed": true
   },
   "outputs": [],
   "source": [
    "import operator"
   ]
  },
  {
   "cell_type": "code",
   "execution_count": 11,
   "metadata": {
    "collapsed": false
   },
   "outputs": [],
   "source": [
    "operator.add\n",
    "operator.mul\n",
    "operator.sub"
   ]
  },
  {
   "cell_type": "code",
   "execution_count": 14,
   "metadata": {
    "collapsed": false
   },
   "outputs": [
    {
     "data": {
      "text/plain": [
       "3"
      ]
     },
     "execution_count": 14,
     "metadata": {},
     "output_type": "execute_result"
    }
   ],
   "source": [
    "add(1,2)"
   ]
  },
  {
   "cell_type": "code",
   "execution_count": 35,
   "metadata": {
    "collapsed": true
   },
   "outputs": [],
   "source": [
    "from sympy import *"
   ]
  },
  {
   "cell_type": "code",
   "execution_count": 42,
   "metadata": {
    "collapsed": false
   },
   "outputs": [],
   "source": [
    "x = Symbol('x')\n",
    "y = Symbol('y')"
   ]
  },
  {
   "cell_type": "code",
   "execution_count": 45,
   "metadata": {
    "collapsed": false
   },
   "outputs": [],
   "source": [
    "expr = tan(x) + sin(x+cos(log(y)))"
   ]
  },
  {
   "cell_type": "code",
   "execution_count": 47,
   "metadata": {
    "collapsed": false
   },
   "outputs": [
    {
     "data": {
      "text/plain": [
       "cos(x + cos(log(y))) + cos(x)**(-2)"
      ]
     },
     "execution_count": 47,
     "metadata": {},
     "output_type": "execute_result"
    }
   ],
   "source": [
    "expr.diff(x).simplify()"
   ]
  },
  {
   "cell_type": "code",
   "execution_count": 48,
   "metadata": {
    "collapsed": false
   },
   "outputs": [
    {
     "data": {
      "text/plain": [
       "cos(x + cos(log(y))) + tan(x)**2 + 1"
      ]
     },
     "execution_count": 48,
     "metadata": {},
     "output_type": "execute_result"
    }
   ],
   "source": [
    "expr.diff(x)"
   ]
  },
  {
   "cell_type": "code",
   "execution_count": 50,
   "metadata": {
    "collapsed": false
   },
   "outputs": [
    {
     "data": {
      "text/plain": [
       "2"
      ]
     },
     "execution_count": 50,
     "metadata": {},
     "output_type": "execute_result"
    }
   ],
   "source": [
    "integrate(sin(x), (x, 0, pi))"
   ]
  },
  {
   "cell_type": "code",
   "execution_count": null,
   "metadata": {
    "collapsed": true
   },
   "outputs": [],
   "source": []
  }
 ],
 "metadata": {
  "anaconda-cloud": {},
  "kernelspec": {
   "display_name": "Python [Root]",
   "language": "python",
   "name": "Python [Root]"
  },
  "language_info": {
   "codemirror_mode": {
    "name": "ipython",
    "version": 3
   },
   "file_extension": ".py",
   "mimetype": "text/x-python",
   "name": "python",
   "nbconvert_exporter": "python",
   "pygments_lexer": "ipython3",
   "version": "3.5.2"
  }
 },
 "nbformat": 4,
 "nbformat_minor": 0
}
