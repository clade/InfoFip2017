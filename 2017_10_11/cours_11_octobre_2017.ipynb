{
 "cells": [
  {
   "cell_type": "markdown",
   "metadata": {},
   "source": [
    "# Installation de Python \n",
    "\n",
    "- On utilise la version 3 de Python (3.6 est la version courrante)\n",
    "- Quelques différences avec la version 2 de Python (version 2.7 est la version courrant)\n",
    "- Distribution : Anaconda. Installation de tout les package. Linux, Mac OS et Windows\n",
    "- Utilisation de Python : \n",
    "    - Console : \"ipython\" ou \"jupyter console\"\n",
    "    - Spyder : environnement à la matlab\n",
    "    - Jupyter notebook : pratique pour des petits exemples. Ne permet pas de faire un projet en Python"
   ]
  },
  {
   "cell_type": "markdown",
   "metadata": {},
   "source": [
    "# 1. Les types d'objets en Python"
   ]
  },
  {
   "cell_type": "markdown",
   "metadata": {
    "slideshow": {
     "slide_type": "slide"
    }
   },
   "source": [
    "# Les nombres\n",
    "- entier (taille infinie)\n",
    "- flottant\n",
    "- complexe"
   ]
  },
  {
   "cell_type": "code",
   "execution_count": 1,
   "metadata": {
    "collapsed": false
   },
   "outputs": [
    {
     "name": "stdout",
     "output_type": "stream",
     "text": [
      "1.000000000000001\n",
      "1.0\n",
      "(1+2j)\n",
      "1.0\n",
      "2.0\n"
     ]
    },
    {
     "data": {
      "text/plain": [
       "1.0"
      ]
     },
     "execution_count": 1,
     "metadata": {},
     "output_type": "execute_result"
    }
   ],
   "source": [
    "# Les entiers sont de taille infinie\n",
    "2**345\n",
    "# La précision est de 1E-15 environ\n",
    "print(1 + 1E-15)\n",
    "print(1 + 1E-16)\n",
    "# Les complexes.\n",
    "z = 1 + 2J\n",
    "print(z)\n",
    "print(z.real) # .real est un attribut de z\n",
    "print(z.imag)\n",
    "(1 + 3J).real"
   ]
  },
  {
   "cell_type": "markdown",
   "metadata": {},
   "source": [
    "# Les chaînes de caratères\n",
    "- création ( \", ', et \"\"\")\n",
    "- quelques méthodes utiles"
   ]
  },
  {
   "cell_type": "code",
   "execution_count": 2,
   "metadata": {
    "collapsed": false
   },
   "outputs": [
    {
     "name": "stdout",
     "output_type": "stream",
     "text": [
      "Bonjour,\n",
      "\tPierre\n",
      "Bonjour, \n",
      "\n",
      "Pierre\n",
      "\n",
      "π π\n",
      "3.14\n"
     ]
    }
   ],
   "source": [
    "\"Bonjour\"\n",
    "'Bonjour'\n",
    "\"Aujourd'hui\"\n",
    "'Aujourd\\'hui'\n",
    "print('Bonjour,\\n\\tPierre')\n",
    "r'\\n'\n",
    "s=\"\"\"Bonjour, \n",
    "\n",
    "Pierre\n",
    "\"\"\"\n",
    "print(s)\n",
    "s\n",
    "# L'unicode, qui permet d'afficher n'importe quel caractère\n",
    "print(\"\\u03C0 π\")\n",
    "π = 3.14\n",
    "print(π)\n"
   ]
  },
  {
   "cell_type": "code",
   "execution_count": 3,
   "metadata": {
    "collapsed": false
   },
   "outputs": [
    {
     "name": "stdout",
     "output_type": "stream",
     "text": [
      "BONJOUR\n",
      "Bonjour\n",
      "Il est 14 heure et 50 minutes\n",
      "La valeur de π est 3.1416\n",
      "14:01\n"
     ]
    },
    {
     "data": {
      "text/plain": [
       "'Bonjour, zeroi, zerer, , sd, s, eert, rty'"
      ]
     },
     "execution_count": 3,
     "metadata": {},
     "output_type": "execute_result"
    }
   ],
   "source": [
    "a = \"Bonjour\"\n",
    "# méthode\n",
    "print(a.upper())\n",
    "print(a)\n",
    "# formatage de chaine de caractère : \n",
    "a = 'Il est {} heure et {} minutes'\n",
    "print(a.format(14, 50))\n",
    "from math import pi\n",
    "a = 'La valeur de π est {:.4f}'\n",
    "print(a.format(pi))\n",
    "# ON peut indiquer le nombre de décimale affichée. \n",
    "print(\"{}:{:02d}\".format(14, 1))\n",
    "\n",
    "s = '1 2 5 3 6'\n",
    "s.split(' ')\n",
    "s = \"\"\"Bonjour\n",
    "zeroi\n",
    "zerer\n",
    "\n",
    "sd\n",
    "s\n",
    "eert\n",
    "rty\"\"\"\n",
    "l = s.split('\\n')\n",
    "', '.join(l)"
   ]
  },
  {
   "cell_type": "markdown",
   "metadata": {
    "slideshow": {
     "slide_type": "slide"
    }
   },
   "source": [
    "# Les listes\n",
    "- création\n",
    "- modification\n",
    "- les boucles (enumerate et zip)\n",
    "- les list comprehension"
   ]
  },
  {
   "cell_type": "code",
   "execution_count": 4,
   "metadata": {
    "collapsed": false,
    "slideshow": {
     "slide_type": "fragment"
    }
   },
   "outputs": [
    {
     "name": "stdout",
     "output_type": "stream",
     "text": [
      "[1, 2, 3.141592653589793, 'Bonjour', [1, 2, 'Bonjour']]\n",
      "[6.283185307179586, 2, 3.141592653589793, 'Bonjour', [1, 2, 'Bonjour']]\n",
      "[6.283185307179586, 2, 3.141592653589793, 'Bonjour', [1, 2, 'Bonjour'], 13]\n"
     ]
    }
   ],
   "source": [
    "l = [1, 2, pi, \"Bonjour\", [1,2,'Bonjour']]\n",
    "print(l)\n",
    "l[2:4]\n",
    "l[0] = 2*pi\n",
    "print(l)\n",
    "l.append(13) # Modification de la liste (on ne renvoie pas une nouvelle liste)\n",
    "print(l)"
   ]
  },
  {
   "cell_type": "code",
   "execution_count": 5,
   "metadata": {
    "collapsed": false
   },
   "outputs": [
    {
     "name": "stdout",
     "output_type": "stream",
     "text": [
      "1\n",
      "2\n",
      "3.141592653589793\n",
      "Bonjour\n",
      "[1, 2, 'Bonjour']\n",
      "0:1\n",
      "1:2\n",
      "2:3.141592653589793\n",
      "3:Bonjour\n",
      "4:[1, 2, 'Bonjour']\n",
      "Jacques Martin\n",
      "Jean Dupont\n"
     ]
    }
   ],
   "source": [
    "l = [1, 2, pi, \"Bonjour\", [1,2,'Bonjour']]\n",
    "# Boucle sur les listes\n",
    "for element in l:\n",
    "    print(element)\n",
    "for i, element in enumerate(l):\n",
    "    print(\"{}:{}\".format(i,element))\n",
    "# On n'utilise pas for i in range(len(...)):    \n",
    "\n",
    "noms = [\"Martin\", 'Dupont']\n",
    "prenoms = ['Jacques', 'Jean']\n",
    "for nom, prenom in zip(noms, prenoms):\n",
    "    print(prenom, nom)"
   ]
  },
  {
   "cell_type": "code",
   "execution_count": 6,
   "metadata": {
    "collapsed": false
   },
   "outputs": [
    {
     "data": {
      "text/plain": [
       "[0, 1, 4, 9, 16, 25, 36, 49, 64, 81]"
      ]
     },
     "execution_count": 6,
     "metadata": {},
     "output_type": "execute_result"
    }
   ],
   "source": [
    "# list comprehension\n",
    "[i**2 for i in range(10)]"
   ]
  },
  {
   "cell_type": "markdown",
   "metadata": {
    "slideshow": {
     "slide_type": "slide"
    }
   },
   "source": [
    " # Les n-uplets (tuple)\n",
    "- exemple d'utilisation\n",
    "- avantage par rapport aux listes"
   ]
  },
  {
   "cell_type": "code",
   "execution_count": 7,
   "metadata": {
    "collapsed": false,
    "slideshow": {
     "slide_type": "fragment"
    }
   },
   "outputs": [
    {
     "name": "stdout",
     "output_type": "stream",
     "text": [
      "<class 'tuple'>\n",
      "(1,)\n"
     ]
    }
   ],
   "source": [
    "t = (1,2)\n",
    "t[0]\n",
    "def f():\n",
    "    return 1, 2\n",
    "\n",
    "a, b = f()\n",
    "a = f()\n",
    "print(type(a))\n",
    "a, b = 1,2\n",
    "a = ()\n",
    "a = (1,)\n",
    "print(a)"
   ]
  },
  {
   "cell_type": "markdown",
   "metadata": {
    "slideshow": {
     "slide_type": "slide"
    }
   },
   "source": [
    "# Les dictionnaires\n",
    "- création\n",
    "- boucles"
   ]
  },
  {
   "cell_type": "code",
   "execution_count": 8,
   "metadata": {
    "collapsed": false,
    "slideshow": {
     "slide_type": "fragment"
    }
   },
   "outputs": [
    {
     "name": "stdout",
     "output_type": "stream",
     "text": [
      "{'nom': 'Dupont', 'age': 46}\n",
      "Dupont\n",
      "46\n",
      "echelle_horizontal 10\n",
      "impedance 50\n",
      "blabla 13\n",
      "echelle_horizontal\n",
      "impedance\n",
      "blabla\n",
      "10\n",
      "50\n",
      "13\n"
     ]
    }
   ],
   "source": [
    "d = {'nom':'Dupont', 'age':46}\n",
    "print(d)\n",
    "print(d['nom'])\n",
    "print(d['age'])\n",
    "parametre_oscillo = {\"echelle_verticale\":3, \n",
    "                    'echelle_horizontal':10, \n",
    "                   'impedance':50}\n",
    "parametre_oscillo['blabla'] = 13\n",
    "del parametre_oscillo[\"echelle_verticale\"]\n",
    "for cle, valeur in parametre_oscillo.items():\n",
    "    print(cle, valeur)\n",
    "for cle in parametre_oscillo.keys():\n",
    "    print(cle)\n",
    "for value in parametre_oscillo.values():\n",
    "    print(value)"
   ]
  },
  {
   "cell_type": "markdown",
   "metadata": {
    "slideshow": {
     "slide_type": "slide"
    }
   },
   "source": [
    "\n",
    "# Les ensembles (set)\n",
    "- création\n",
    "- operation sur les ensembles"
   ]
  },
  {
   "cell_type": "code",
   "execution_count": 9,
   "metadata": {
    "collapsed": false,
    "slideshow": {
     "slide_type": "fragment"
    }
   },
   "outputs": [
    {
     "name": "stdout",
     "output_type": "stream",
     "text": [
      "{1, 2, 5}\n",
      "{1, 2, -556, 5, 345}\n",
      "{1, 2}\n",
      "{345, -556, 5}\n",
      "autre : 1\n",
      "et : 1\n",
      "Voici : 1\n",
      "texte : 2\n",
      "un : 2\n"
     ]
    }
   ],
   "source": [
    "a = set([1,2,5, 5, 2])\n",
    "b = set([1, 2, 345, -556])\n",
    "print(a)\n",
    "print(a|b)\n",
    "print(a&b)\n",
    "print(a^b)\n",
    "s = \"Voici un texte et un autre texte\"\n",
    "liste_s = s.split(' ')\n",
    "for mot in set(liste_s):\n",
    "    print(mot, ':', liste_s.count(mot))"
   ]
  },
  {
   "cell_type": "markdown",
   "metadata": {
    "slideshow": {
     "slide_type": "slide"
    }
   },
   "source": [
    "# 2. Elements de syntaxe"
   ]
  },
  {
   "cell_type": "markdown",
   "metadata": {},
   "source": [
    "# Arguments optionels"
   ]
  },
  {
   "cell_type": "code",
   "execution_count": 10,
   "metadata": {
    "collapsed": false
   },
   "outputs": [
    {
     "name": "stdout",
     "output_type": "stream",
     "text": [
      "bonjour = 2\n",
      "coucou = 5\n",
      "Il est 15 heure et 48 minutes. Oui, il est vraiment 15:48\n"
     ]
    }
   ],
   "source": [
    "def affine(x, a=2, b=8, **kwd):\n",
    "    return a*x + b\n",
    "\n",
    "affine(b=4, x=1, a=4)\n",
    "\n",
    "parametre = {'a':3, 'b':45}\n",
    "affine(3, **parametre)\n",
    "liste = (2,6)\n",
    "affine(1, *liste)\n",
    "\n",
    "def mon_print(a, **kwd):\n",
    "    for key, elm in kwd.items():\n",
    "        print(key, '=', elm)\n",
    "        \n",
    "mon_print(a=1, bonjour=2, coucou=5)\n",
    "\n",
    "s = 'Il est {heure} heure et {minutes} minutes. Oui, il est vraiment {heure}:{minutes}'\n",
    "print(s.format(minutes=48, heure=15, ))"
   ]
  },
  {
   "cell_type": "markdown",
   "metadata": {},
   "source": [
    "# Fonction lambda"
   ]
  },
  {
   "cell_type": "code",
   "execution_count": 11,
   "metadata": {
    "collapsed": false
   },
   "outputs": [
    {
     "data": {
      "text/plain": [
       "16"
      ]
     },
     "execution_count": 11,
     "metadata": {},
     "output_type": "execute_result"
    }
   ],
   "source": [
    "f = lambda x:x**2\n",
    "f(4)\n",
    "(lambda x:x**2)(4)"
   ]
  },
  {
   "cell_type": "markdown",
   "metadata": {},
   "source": [
    "# Exemple : fonction quad de scipy"
   ]
  },
  {
   "cell_type": "code",
   "execution_count": 12,
   "metadata": {
    "collapsed": false
   },
   "outputs": [
    {
     "data": {
      "text/plain": [
       "(0.16666666666666669, 1.8503717077085944e-15)"
      ]
     },
     "execution_count": 12,
     "metadata": {},
     "output_type": "execute_result"
    }
   ],
   "source": [
    "from scipy.integrate import quad\n",
    "quad(lambda x:x**5, 0, 1, epsrel=1E-8)"
   ]
  },
  {
   "cell_type": "markdown",
   "metadata": {},
   "source": [
    "# Les boucles\n",
    "- Boucles for (liste, générateur). range en Pyhon 3\n",
    "- break, continue\n",
    "- else"
   ]
  },
  {
   "cell_type": "code",
   "execution_count": 13,
   "metadata": {
    "collapsed": false
   },
   "outputs": [
    {
     "name": "stdout",
     "output_type": "stream",
     "text": [
      "4\n",
      "16\n",
      "256\n",
      "65536\n",
      "4294967296\n"
     ]
    }
   ],
   "source": [
    "liste = [1,2,5]\n",
    "#for elm in range(3):\n",
    "#    print(elm)\n",
    "a = range(3)\n",
    "b = iter(a)\n",
    "print(next(b))\n",
    "print(next(b))\n",
    "print(next(b))\n",
    "\n",
    "\n",
    "# f est un générateur\n",
    "def f(n):\n",
    "    a = 2\n",
    "    for _ in range(n):\n",
    "        a = a**2\n",
    "        yield a    \n",
    "\n",
    "for elm in f(5):\n",
    "    print(elm)\n"
   ]
  },
  {
   "cell_type": "code",
   "execution_count": 14,
   "metadata": {
    "collapsed": false
   },
   "outputs": [
    {
     "name": "stdout",
     "output_type": "stream",
     "text": [
      "2015 n'est pas premier.\n",
      "2017 est premier.\n"
     ]
    }
   ],
   "source": [
    "n = 2015\n",
    "\n",
    "# Utilisation du else dans une boucle for\n",
    "def est_premier(n):\n",
    "    i=2\n",
    "    while i**2<=n:\n",
    "        if n%i==0:\n",
    "            print(\"{} n'est pas premier.\".format(n))\n",
    "            break\n",
    "        i = i+1\n",
    "    else:\n",
    "        print(\"{} est premier.\".format(n))\n",
    "        \n",
    "# En général on préfère quitter la boucle en quittant la fonction. \n",
    "\n",
    "est_premier(2015)\n",
    "est_premier(2017)"
   ]
  },
  {
   "cell_type": "markdown",
   "metadata": {},
   "source": [
    "# 3. Quelques subtilités de Python"
   ]
  },
  {
   "cell_type": "markdown",
   "metadata": {},
   "source": [
    "## Assignation"
   ]
  },
  {
   "cell_type": "code",
   "execution_count": 15,
   "metadata": {
    "collapsed": false
   },
   "outputs": [
    {
     "name": "stdout",
     "output_type": "stream",
     "text": [
      "[5]\n",
      "[[0]]\n",
      "[[10]]\n",
      "[[10], 5]\n",
      "[[...], 1, 2, 3]\n"
     ]
    },
    {
     "data": {
      "text/plain": [
       "2"
      ]
     },
     "execution_count": 15,
     "metadata": {},
     "output_type": "execute_result"
    }
   ],
   "source": [
    "# Il n'y a qu'un seul objet\n",
    "# mon_portefeuille et votre_portefeuille font référence au même objet\n",
    "mon_portefeuille = []\n",
    "votre_portefeuille = mon_portefeuille\n",
    "mon_portefeuille.append(5)\n",
    "print(votre_portefeuille)\n",
    "\n",
    "# Idem dans une fonction\n",
    "def ajoute_5_euros(portefeuille):\n",
    "    portefeuille = portefeuille + [5]\n",
    "    portefeuille.append(10)\n",
    "    \n",
    "p = [[0]]\n",
    "ajoute_5_euros(p)\n",
    "print(p)\n",
    "q = p.copy()\n",
    "p.append(5)\n",
    "p[0][0] = 10\n",
    "print(q)\n",
    "print(p)\n",
    "\n",
    "l = [1,2,3]\n",
    "l.insert(0, l)\n",
    "print(l)\n",
    "l[0][0][0][0][2]"
   ]
  },
  {
   "cell_type": "markdown",
   "metadata": {},
   "source": [
    "## Variable locale / variable globale"
   ]
  },
  {
   "cell_type": "code",
   "execution_count": 16,
   "metadata": {
    "collapsed": false
   },
   "outputs": [
    {
     "name": "stdout",
     "output_type": "stream",
     "text": [
      "Coucou [2]\n",
      "1.0\n",
      "1\n",
      "[2, 4]\n",
      "i= [0]\n",
      "i= [1]\n"
     ]
    },
    {
     "data": {
      "text/plain": [
       "1.0"
      ]
     },
     "execution_count": 16,
     "metadata": {},
     "output_type": "execute_result"
    }
   ],
   "source": [
    "from math import sin, pi\n",
    "\n",
    "ma_variable = [2]\n",
    "\n",
    "# ma_variable est globale. On peut modifier l'objet désigné par ma_variable\n",
    "# mes on ne peut pas assigner un nouvel objet à ma_variable\n",
    "def ma_fonction(x):\n",
    "    print('Coucou', ma_variable)\n",
    "    ma_variable.append(4)\n",
    "    x = x + 2\n",
    "    return sin(2*pi*x)\n",
    "\n",
    "x = 1\n",
    "print(ma_fonction(.25))\n",
    "print(x)\n",
    "print(ma_variable)\n",
    "\n",
    "nom_d_appel_fonction = [0]\n",
    "def ma_fonction():\n",
    "    nom_d_appel_fonction[0] += 1\n",
    "    \n",
    "print('i=',nom_d_appel_fonction)\n",
    "ma_fonction()\n",
    "print('i=',nom_d_appel_fonction)\n",
    "\n",
    "def compose(f, g):\n",
    "    def fonction_composee(x):\n",
    "        return f(g(x))\n",
    "    return fonction_composee\n",
    "    \n",
    "from math import log, exp\n",
    "truc = compose(log, exp)\n",
    "truc(1)"
   ]
  },
  {
   "cell_type": "markdown",
   "metadata": {},
   "source": [
    "\n",
    "# 4. Les erreurs\n",
    "- Soulever les erreurs\n",
    "- Tester les erreurs"
   ]
  },
  {
   "cell_type": "code",
   "execution_count": 17,
   "metadata": {
    "collapsed": false
   },
   "outputs": [
    {
     "name": "stdout",
     "output_type": "stream",
     "text": [
      "1j\n",
      "Le triangle de côté 300, 4, 5 n'existe pas\n"
     ]
    },
    {
     "ename": "TypeError",
     "evalue": "unsupported operand type(s) for *: 'int' and 'NoneType'",
     "output_type": "error",
     "traceback": [
      "\u001b[1;31m---------------------------------------------------------------------------\u001b[0m",
      "\u001b[1;31mTypeError\u001b[0m                                 Traceback (most recent call last)",
      "\u001b[1;32m<ipython-input-17-b282757611e5>\u001b[0m in \u001b[0;36m<module>\u001b[1;34m()\u001b[0m\n\u001b[0;32m     21\u001b[0m \u001b[1;33m\u001b[0m\u001b[0m\n\u001b[0;32m     22\u001b[0m \u001b[1;33m\u001b[0m\u001b[0m\n\u001b[1;32m---> 23\u001b[1;33m \u001b[0mc\u001b[0m \u001b[1;33m=\u001b[0m  \u001b[1;36m2\u001b[0m\u001b[1;33m*\u001b[0m\u001b[0maire_triangle\u001b[0m\u001b[1;33m(\u001b[0m\u001b[1;36m300\u001b[0m\u001b[1;33m,\u001b[0m \u001b[1;36m4\u001b[0m\u001b[1;33m,\u001b[0m \u001b[1;36m5\u001b[0m\u001b[1;33m)\u001b[0m\u001b[1;33m\u001b[0m\u001b[0m\n\u001b[0m",
      "\u001b[1;31mTypeError\u001b[0m: unsupported operand type(s) for *: 'int' and 'NoneType'"
     ]
    }
   ],
   "source": [
    "from math import sqrt\n",
    "a = -1\n",
    "try:\n",
    "    b = sqrt(a)\n",
    "except ValueError:\n",
    "    b = sqrt(-a)*1J\n",
    "print(b)\n",
    "\n",
    "def aire_triangle(a, b, c):\n",
    "    if not( (c<a+b) and (c>abs(a-b)) ):\n",
    "        raise Exception(\"Le triangle de côté {a}, {b}, {c} n'existe pas\".format(**locals()))\n",
    "    s = (a+b+c)/2\n",
    "    return sqrt(s*(s-a)*(s-b)*(s-c))\n",
    "\n",
    "# Cette méthode est préférable\n",
    "def aire_triangle(a, b, c):\n",
    "    s = (a+b+c)/2\n",
    "    try:\n",
    "        return sqrt(s*(s-a)*(s-b)*(s-c))\n",
    "    except ValueError:\n",
    "        print(\"Le triangle de côté {a}, {b}, {c} n'existe pas\".format(**locals()))\n",
    "\n",
    "\n",
    "c =  2*aire_triangle(300, 4, 5)"
   ]
  },
  {
   "cell_type": "code",
   "execution_count": 18,
   "metadata": {
    "collapsed": false
   },
   "outputs": [
    {
     "ename": "TypeError",
     "evalue": "'list' object is not callable",
     "output_type": "error",
     "traceback": [
      "\u001b[1;31m---------------------------------------------------------------------------\u001b[0m",
      "\u001b[1;31mTypeError\u001b[0m                                 Traceback (most recent call last)",
      "\u001b[1;32m<ipython-input-18-7e02d6daae29>\u001b[0m in \u001b[0;36m<module>\u001b[1;34m()\u001b[0m\n\u001b[0;32m      1\u001b[0m \u001b[0ml\u001b[0m \u001b[1;33m=\u001b[0m \u001b[1;33m[\u001b[0m\u001b[1;36m1\u001b[0m\u001b[1;33m,\u001b[0m\u001b[1;36m2\u001b[0m\u001b[1;33m,\u001b[0m\u001b[1;36m4\u001b[0m\u001b[1;33m]\u001b[0m\u001b[1;33m\u001b[0m\u001b[0m\n\u001b[1;32m----> 2\u001b[1;33m \u001b[0ml\u001b[0m\u001b[1;33m(\u001b[0m\u001b[1;36m2\u001b[0m\u001b[1;33m)\u001b[0m\u001b[1;33m\u001b[0m\u001b[0m\n\u001b[0m",
      "\u001b[1;31mTypeError\u001b[0m: 'list' object is not callable"
     ]
    }
   ],
   "source": [
    "l = [1,2,4]\n",
    "l(2)"
   ]
  },
  {
   "cell_type": "code",
   "execution_count": 19,
   "metadata": {
    "collapsed": false
   },
   "outputs": [
    {
     "ename": "SyntaxError",
     "evalue": "invalid syntax (<ipython-input-19-c914d575a570>, line 5)",
     "output_type": "error",
     "traceback": [
      "\u001b[1;36m  File \u001b[1;32m\"<ipython-input-19-c914d575a570>\"\u001b[1;36m, line \u001b[1;32m5\u001b[0m\n\u001b[1;33m    f(2)\u001b[0m\n\u001b[1;37m    ^\u001b[0m\n\u001b[1;31mSyntaxError\u001b[0m\u001b[1;31m:\u001b[0m invalid syntax\n"
     ]
    }
   ],
   "source": [
    "# Python indique toujours la bonne ligne, sauf dans le cas d'une syntaxe error\n",
    "def f(x):\n",
    "    return x * (3*x + x**2*(1+x)\n",
    "\n",
    "f(2)"
   ]
  },
  {
   "cell_type": "markdown",
   "metadata": {},
   "source": [
    "# 5. Créer des objets\n",
    "- Attributs\n",
    "- Méthodes"
   ]
  },
  {
   "cell_type": "code",
   "execution_count": 20,
   "metadata": {
    "collapsed": false,
    "scrolled": true
   },
   "outputs": [
    {
     "name": "stdout",
     "output_type": "stream",
     "text": [
      "1\n",
      "{'ima': 2, 'rea': 1}\n",
      "2.23606797749979\n",
      "1 + 2i\n",
      "1 + -2i\n",
      "1.3 + 105i\n",
      "2 + 2i\n",
      "2 + 2i\n"
     ]
    }
   ],
   "source": [
    "from math import sqrt\n",
    "from numbers import Number\n",
    "\n",
    "class Complexe:\n",
    "    def __init__(self, a, b):\n",
    "        self.rea = a\n",
    "        self.ima = b\n",
    "    def module(self):\n",
    "        return sqrt(self.rea**2 + self.ima**2)\n",
    "    \n",
    "    def conjugate(self):\n",
    "        return Complexe(self.rea, -self.ima)\n",
    "    \n",
    "#    def __repr__(self):\n",
    "#        return 'Complexe({self.real}, {self.imag})'.format(self=self)\n",
    "\n",
    "    def __repr__(self):\n",
    "        return '{self.rea} + {self.ima}i'.format(self=self)\n",
    "\n",
    "    def __add__(self, other):\n",
    "        if isinstance(other, Number):\n",
    "            other  = Complexe(other, 0)\n",
    "        return Complexe(self.rea + other.rea, self.ima + other.ima)\n",
    "\n",
    "    def __radd__(self, other):\n",
    "        return self + other\n",
    "    \n",
    "#def somme(c1, c2):\n",
    "#    return Complexe(c1.real + c2.real, c1.imag+c2.imag)\n",
    "    \n",
    "c = Complexe(1, 2)\n",
    "#c.real = 1\n",
    "#c.imag = 2\n",
    "print(c.rea)\n",
    "print(c.__dict__)\n",
    "print(c.module())\n",
    "#d = {}\n",
    "#d['real'] = 1\n",
    "#print(d['real'])\n",
    "print(c)\n",
    "print(c.conjugate())\n",
    "d = Complexe(0.3, 103)\n",
    "print(c + d) # c.__add__(d)\n",
    "print(c + 1)\n",
    "\n",
    "isinstance(1, Number)\n",
    "\n",
    "print(1 + c)\n",
    "#(1).__add__(c)"
   ]
  },
  {
   "cell_type": "code",
   "execution_count": 21,
   "metadata": {
    "collapsed": false
   },
   "outputs": [
    {
     "data": {
      "text/plain": [
       "(1-1j)"
      ]
     },
     "execution_count": 21,
     "metadata": {},
     "output_type": "execute_result"
    }
   ],
   "source": [
    "z = 1 + 1J\n",
    "z.conjugate()"
   ]
  },
  {
   "cell_type": "code",
   "execution_count": 22,
   "metadata": {
    "collapsed": false
   },
   "outputs": [
    {
     "data": {
      "text/plain": [
       "0"
      ]
     },
     "execution_count": 22,
     "metadata": {},
     "output_type": "execute_result"
    }
   ],
   "source": [
    "a = 1\n",
    "a.imag"
   ]
  },
  {
   "cell_type": "code",
   "execution_count": null,
   "metadata": {
    "collapsed": true
   },
   "outputs": [],
   "source": []
  },
  {
   "cell_type": "code",
   "execution_count": null,
   "metadata": {
    "collapsed": true
   },
   "outputs": [],
   "source": []
  }
 ],
 "metadata": {
  "anaconda-cloud": {},
  "kernelspec": {
   "display_name": "Python [Root]",
   "language": "python",
   "name": "Python [Root]"
  },
  "language_info": {
   "codemirror_mode": {
    "name": "ipython",
    "version": 3
   },
   "file_extension": ".py",
   "mimetype": "text/x-python",
   "name": "python",
   "nbconvert_exporter": "python",
   "pygments_lexer": "ipython3",
   "version": "3.5.2"
  }
 },
 "nbformat": 4,
 "nbformat_minor": 0
}
